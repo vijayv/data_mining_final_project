{
 "cells": [
  {
   "cell_type": "code",
   "execution_count": 59,
   "metadata": {
    "collapsed": true
   },
   "outputs": [],
   "source": [
    "import pandas as pd\n",
    "import numpy as np\n",
    "import matplotlib.pylab as plt\n",
    "from math import sqrt\n",
    "%matplotlib inline"
   ]
  },
  {
   "cell_type": "code",
   "execution_count": 60,
   "metadata": {
    "collapsed": true
   },
   "outputs": [],
   "source": [
    "def DTWDistance(s1, s2,w):\n",
    "    DTW={}\n",
    "    \n",
    "    w = max(w, abs(len(s1)-len(s2)))\n",
    "    \n",
    "    for i in range(-1,len(s1)):\n",
    "        for j in range(-1,len(s2)):\n",
    "            DTW[(i, j)] = float('inf')\n",
    "    DTW[(-1, -1)] = 0\n",
    "  \n",
    "    for i in range(len(s1)):\n",
    "        for j in range(max(0, i-w), min(len(s2), i+w)):\n",
    "            dist= (s1[i]-s2[j])**2\n",
    "            DTW[(i, j)] = dist + min(DTW[(i-1, j)],DTW[(i, j-1)], DTW[(i-1, j-1)])\n",
    "\n",
    "    return sqrt(DTW[len(s1)-1, len(s2)-1])"
   ]
  },
  {
   "cell_type": "code",
   "execution_count": 106,
   "metadata": {
    "collapsed": true
   },
   "outputs": [],
   "source": [
    "def LB_Keogh(s1,s2,r):\n",
    "    LB_sum=0\n",
    "    for ind,i in enumerate(s1):\n",
    "        \n",
    "        lower_bound=min(s2[(ind-r if ind-r>=0 else 0):(ind+r)])\n",
    "        upper_bound=max(s2[(ind-r if ind-r>=0 else 0):(ind+r)])\n",
    "        \n",
    "        if i>upper_bound:\n",
    "            LB_sum=LB_sum+(i-upper_bound)**2\n",
    "        elif i<lower_bound:\n",
    "            LB_sum=LB_sum+(i-lower_bound)**2\n",
    "    \n",
    "    return sqrt(LB_sum)"
   ]
  },
  {
   "cell_type": "markdown",
   "metadata": {},
   "source": [
    "## Clustering "
   ]
  },
  {
   "cell_type": "code",
   "execution_count": 107,
   "metadata": {
    "collapsed": true
   },
   "outputs": [],
   "source": [
    "import random\n",
    "\n",
    "def k_means_clust(data,num_clust,num_iter,w=5):\n",
    "    centroids=random.sample(data,num_clust)\n",
    "    counter=0\n",
    "    for n in range(num_iter):\n",
    "        counter+=1\n",
    "        print counter\n",
    "        assignments={}\n",
    "        #assign data points to clusters\n",
    "        for ind,i in enumerate(data):\n",
    "            min_dist=float('inf')\n",
    "            closest_clust=None\n",
    "            for c_ind,j in enumerate(centroids):\n",
    "                if LB_Keogh(i,j,5)<min_dist:\n",
    "                    cur_dist=DTWDistance(i,j,w)\n",
    "                    if cur_dist<min_dist:\n",
    "                        min_dist=cur_dist\n",
    "                        closest_clust=c_ind\n",
    "            if closest_clust in assignments:\n",
    "                assignments[closest_clust].append(ind)\n",
    "            else:\n",
    "                assignments[closest_clust]=[]\n",
    "        \n",
    "        #recalculate centroids of clusters\n",
    "        for key in assignments:\n",
    "            print \"key:\", key, \"  \"\n",
    "            clust_sum=0\n",
    "            for k in assignments[key]:\n",
    "                clust_sum=clust_sum+data[k]\n",
    "            centroids[key]=[m/len(assignments[key]) for m in clust_sum]\n",
    "    \n",
    "    return (assignments, centroids)"
   ]
  },
  {
   "cell_type": "code",
   "execution_count": 108,
   "metadata": {
    "collapsed": true
   },
   "outputs": [],
   "source": [
    "df = pd.read_csv(\"TS_NCFAS.csv\", index_col=\"Subject Unique Identifier\")"
   ]
  },
  {
   "cell_type": "code",
   "execution_count": 109,
   "metadata": {
    "collapsed": false
   },
   "outputs": [
    {
     "name": "stdout",
     "output_type": "stream",
     "text": [
      "64\n"
     ]
    }
   ],
   "source": [
    "print len(df)\n",
    "data = df.fillna(0).as_matrix()"
   ]
  },
  {
   "cell_type": "code",
   "execution_count": 110,
   "metadata": {
    "collapsed": false
   },
   "outputs": [
    {
     "name": "stdout",
     "output_type": "stream",
     "text": [
      "1\n",
      "key: 0   \n",
      "key: 1   \n",
      "key: 2   \n",
      "2\n",
      "key: 0   \n",
      "key: 1   \n",
      "key: 2   \n",
      "3\n",
      "key: 0   \n",
      "key: 1   \n",
      "key: 2   \n",
      "4\n",
      "key: 0   \n",
      "key: 1   \n",
      "key: 2   \n",
      "5\n",
      "key: 0   \n",
      "key: 1   \n",
      "key: 2   \n",
      "6\n",
      "key: 0   \n",
      "key: 1   \n",
      "key: 2   \n",
      "7\n",
      "key: 0   \n",
      "key: 1   \n",
      "key: 2   \n",
      "8\n",
      "key: 0   \n",
      "key: 1   \n",
      "key: 2   \n",
      "9\n",
      "key: 0   \n",
      "key: 1   \n",
      "key: 2   \n",
      "10\n",
      "key: 0   \n",
      "key: 1   \n",
      "key: 2   \n"
     ]
    },
    {
     "data": {
      "image/png": "[encoded data removed]",
      "text/plain": [
       "<matplotlib.figure.Figure at 0x10f7b358>"
      ]
     },
     "metadata": {},
     "output_type": "display_data"
    }
   ],
   "source": [
    "import matplotlib.pylab as plt\n",
    "\n",
    "assignments, centroids=k_means_clust(data,3,10,100)\n",
    "for i in centroids:\n",
    "    \n",
    "    plt.plot(i)\n",
    "\n",
    "plt.show()"
   ]
  },
  {
   "cell_type": "code",
   "execution_count": 111,
   "metadata": {
    "collapsed": false
   },
   "outputs": [
    {
     "name": "stdout",
     "output_type": "stream",
     "text": [
      "{0: [4, 7, 9, 11, 12, 14, 20, 24, 27, 30, 34, 37, 44, 52, 53, 54, 55, 57, 58, 60, 62, 63], 1: [1, 3, 5, 10, 13, 18, 19, 21, 23, 25, 26, 28, 31, 32, 36, 38, 40, 42, 43, 46, 47, 48, 51, 59], 2: [8, 15, 16, 17, 22, 29, 33, 35, 39, 41, 45, 49, 50, 56, 61]}\n"
     ]
    }
   ],
   "source": [
    "print assignments"
   ]
  },
  {
   "cell_type": "code",
   "execution_count": 135,
   "metadata": {
    "collapsed": false
   },
   "outputs": [],
   "source": [
    "df[\"cluster\"] = \"\"\n",
    "labels = {}\n",
    "for key, value in assignments.items():\n",
    "    labels[key] = df.reset_index().ix[value,\"Subject Unique Identifier\"]"
   ]
  },
  {
   "cell_type": "code",
   "execution_count": 144,
   "metadata": {
    "collapsed": false
   },
   "outputs": [
    {
     "name": "stdout",
     "output_type": "stream",
     "text": [
      "{0: 4       515\n",
      "7       759\n",
      "9      1116\n",
      "11     1399\n",
      "12     2102\n",
      "14     2380\n",
      "20     3994\n",
      "24     4952\n",
      "27     5153\n",
      "30     6218\n",
      "34     9346\n",
      "37     9478\n",
      "44     9970\n",
      "52    11121\n",
      "53    11159\n",
      "54    11172\n",
      "55    11179\n",
      "57    11331\n",
      "58    11357\n",
      "60    11448\n",
      "62    11584\n",
      "63    11674\n",
      "Name: Subject Unique Identifier, dtype: int64, 1: 1       126\n",
      "3       335\n",
      "5       629\n",
      "10     1221\n",
      "13     2161\n",
      "18     3393\n",
      "19     3875\n",
      "21     4468\n",
      "23     4751\n",
      "25     5097\n",
      "26     5114\n",
      "28     5696\n",
      "31     6341\n",
      "32     7372\n",
      "36     9405\n",
      "38     9553\n",
      "40     9739\n",
      "42     9908\n",
      "43     9943\n",
      "46    10137\n",
      "47    10593\n",
      "48    10674\n",
      "51    10942\n",
      "59    11401\n",
      "Name: Subject Unique Identifier, dtype: int64, 2: 8       800\n",
      "15     2648\n",
      "16     2726\n",
      "17     3360\n",
      "22     4645\n",
      "29     5938\n",
      "33     8888\n",
      "35     9395\n",
      "39     9588\n",
      "41     9779\n",
      "45     9979\n",
      "49    10819\n",
      "50    10857\n",
      "56    11261\n",
      "61    11540\n",
      "Name: Subject Unique Identifier, dtype: int64}\n"
     ]
    }
   ],
   "source": [
    "print labels"
   ]
  },
  {
   "cell_type": "code",
   "execution_count": null,
   "metadata": {
    "collapsed": true
   },
   "outputs": [],
   "source": []
  }
 ],
 "metadata": {
  "kernelspec": {
   "display_name": "Python 2",
   "language": "python",
   "name": "python2"
  },
  "language_info": {
   "codemirror_mode": {
    "name": "ipython",
    "version": 2
   },
   "file_extension": ".py",
   "mimetype": "text/x-python",
   "name": "python",
   "nbconvert_exporter": "python",
   "pygments_lexer": "ipython2",
   "version": "2.7.9"
  }
 },
 "nbformat": 4,
 "nbformat_minor": 0
}
