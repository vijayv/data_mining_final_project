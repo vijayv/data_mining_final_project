{
 "cells": [
  {
   "cell_type": "code",
   "execution_count": 41,
   "metadata": {
    "collapsed": true
   },
   "outputs": [],
   "source": [
    "import pandas as pd\n",
    "import numpy as np\n",
    "import matplotlib.pylab as plt\n",
    "from math import sqrt\n",
    "from datetime import datetime\n",
    "%matplotlib inline"
   ]
  },
  {
   "cell_type": "code",
   "execution_count": 2,
   "metadata": {
    "collapsed": true
   },
   "outputs": [],
   "source": [
    "def DTWDistance(s1, s2,w):\n",
    "    DTW={}\n",
    "    \n",
    "    w = max(w, abs(len(s1)-len(s2)))\n",
    "    \n",
    "    for i in range(-1,len(s1)):\n",
    "        for j in range(-1,len(s2)):\n",
    "            DTW[(i, j)] = float('inf')\n",
    "    DTW[(-1, -1)] = 0\n",
    "  \n",
    "    for i in range(len(s1)):\n",
    "        for j in range(max(0, i-w), min(len(s2), i+w)):\n",
    "            dist= (s1[i]-s2[j])**2\n",
    "            DTW[(i, j)] = dist + min(DTW[(i-1, j)],DTW[(i, j-1)], DTW[(i-1, j-1)])\n",
    "\n",
    "    return sqrt(DTW[len(s1)-1, len(s2)-1])"
   ]
  },
  {
   "cell_type": "code",
   "execution_count": 3,
   "metadata": {
    "collapsed": true
   },
   "outputs": [],
   "source": [
    "def LB_Keogh(s1,s2,r):\n",
    "    LB_sum=0\n",
    "    for ind,i in enumerate(s1):\n",
    "        \n",
    "        lower_bound=min(s2[(ind-r if ind-r>=0 else 0):(ind+r)])\n",
    "        upper_bound=max(s2[(ind-r if ind-r>=0 else 0):(ind+r)])\n",
    "        \n",
    "        if i>upper_bound:\n",
    "            LB_sum=LB_sum+(i-upper_bound)**2\n",
    "        elif i<lower_bound:\n",
    "            LB_sum=LB_sum+(i-lower_bound)**2\n",
    "    \n",
    "    return sqrt(LB_sum)"
   ]
  },
  {
   "cell_type": "markdown",
   "metadata": {},
   "source": [
    "## Clustering "
   ]
  },
  {
   "cell_type": "code",
   "execution_count": 94,
   "metadata": {
    "collapsed": true
   },
   "outputs": [],
   "source": [
    "import random\n",
    "\n",
    "def k_means_clust(data,num_clust,num_iter,w=5):\n",
    "    #assign random data points as starting centroids\n",
    "    centroids=random.sample(data,num_clust)\n",
    "    counter=0\n",
    "    #min cluster sum\n",
    "    min_total_cluster_distance = float('inf')\n",
    "    for n in range(num_iter):\n",
    "        counter+=1\n",
    "        print counter\n",
    "        assignments={}\n",
    "        #assign data points to clusters\n",
    "        for ind,i in enumerate(data):\n",
    "            min_dist=float('inf')\n",
    "            closest_clust=None\n",
    "            for c_ind,j in enumerate(centroids):\n",
    "                if LB_Keogh(i,j,5)<min_dist:\n",
    "                    cur_dist=DTWDistance(i,j,w)\n",
    "                    if cur_dist<min_dist:\n",
    "                        min_dist=cur_dist\n",
    "                        closest_clust=c_ind\n",
    "            if closest_clust in assignments:\n",
    "                assignments[closest_clust].append(ind)\n",
    "            else:\n",
    "                assignments[closest_clust]=[]\n",
    "        \n",
    "        #recalculate centroids of clusters\n",
    "        temp_cluster_sum = 0\n",
    "        for key in assignments:\n",
    "            print \"key:\", key, \"  \"\n",
    "            clust_sum=0\n",
    "            for k in assignments[key]:\n",
    "                clust_sum=clust_sum+data[k]\n",
    "            centroids[key]=[m/len(assignments[key]) for m in clust_sum]\n",
    "            print sum(clust_sum)\n",
    "            temp_cluster_sum += sum(clust_sum)\n",
    "        \n",
    "        if temp_cluster_sum < min_total_cluster_distance:\n",
    "            min_total_cluster_distance = temp_cluster_sum\n",
    "            \n",
    "    return (assignments, centroids, min_total_cluster_distance)"
   ]
  },
  {
   "cell_type": "code",
   "execution_count": 96,
   "metadata": {
    "collapsed": true
   },
   "outputs": [],
   "source": [
    "df = pd.read_csv(\"TS_NCFAS.csv\", index_col=\"Subject Unique Identifier\")"
   ]
  },
  {
   "cell_type": "code",
   "execution_count": 97,
   "metadata": {
    "collapsed": false,
    "scrolled": true
   },
   "outputs": [
    {
     "name": "stdout",
     "output_type": "stream",
     "text": [
      "64\n"
     ]
    }
   ],
   "source": [
    "print len(df)\n",
    "data = df.fillna(0).as_matrix()"
   ]
  },
  {
   "cell_type": "code",
   "execution_count": 98,
   "metadata": {
    "collapsed": false
   },
   "outputs": [
    {
     "name": "stdout",
     "output_type": "stream",
     "text": [
      "1\n",
      "key: 0   \n",
      "1204.0\n",
      "key: 1   \n",
      "822.0\n",
      "key: 2   \n",
      "1321.0\n",
      "2\n",
      "key: 0   \n",
      "1018.0\n",
      "key: 1   \n",
      "1561.0\n",
      "key: 2   \n",
      "768.0\n",
      "3\n",
      "key: 0   \n",
      "626.0\n",
      "key: 1   \n",
      "1335.0\n",
      "key: 2   \n",
      "1386.0\n",
      "4\n",
      "key: 0   \n",
      "645.0\n",
      "key: 1   \n",
      "1242.0\n",
      "key: 2   \n",
      "1460.0\n",
      "5\n",
      "key: 0   \n",
      "709.0\n",
      "key: 1   \n",
      "1346.0\n",
      "key: 2   \n",
      "1292.0\n",
      "6\n",
      "key: 0   \n",
      "626.0\n",
      "key: 1   \n",
      "1598.0\n",
      "key: 2   \n",
      "1187.0\n",
      "7\n",
      "key: 0   \n",
      "645.0\n",
      "key: 1   \n",
      "1557.0\n",
      "key: 2   \n",
      "1145.0\n",
      "8\n",
      "key: 0   \n",
      "626.0\n",
      "key: 1   \n",
      "1653.0\n",
      "key: 2   \n",
      "1068.0\n",
      "9\n",
      "key: 0   \n",
      "538.0\n",
      "key: 1   \n",
      "1517.0\n",
      "key: 2   \n",
      "1292.0\n",
      "10\n",
      "key: 0   \n",
      "538.0\n",
      "key: 1   \n",
      "1653.0\n",
      "key: 2   \n",
      "1156.0\n"
     ]
    },
    {
     "data": {
      "image/png": "[encoded data removed]",
      "text/plain": [
       "<matplotlib.figure.Figure at 0x106cb29d0>"
      ]
     },
     "metadata": {},
     "output_type": "display_data"
    }
   ],
   "source": [
    "assignments, centroids, min_dist=k_means_clust(data,3,10,3)\n",
    "for i in centroids:\n",
    "    plt.plot(i)\n",
    "\n",
    "plt.show()"
   ]
  },
  {
   "cell_type": "code",
   "execution_count": 99,
   "metadata": {
    "collapsed": false
   },
   "outputs": [
    {
     "name": "stderr",
     "output_type": "stream",
     "text": [
      "/Users/acchi369/anaconda/lib/python2.7/site-packages/IPython/kernel/__main__.py:5: SettingWithCopyWarning: \n",
      "A value is trying to be set on a copy of a slice from a DataFrame.\n",
      "Try using .loc[row_indexer,col_indexer] = value instead\n",
      "\n",
      "See the the caveats in the documentation: http://pandas.pydata.org/pandas-docs/stable/indexing.html#indexing-view-versus-copy\n",
      "/Users/acchi369/anaconda/lib/python2.7/site-packages/IPython/kernel/__main__.py:6: SettingWithCopyWarning: \n",
      "A value is trying to be set on a copy of a slice from a DataFrame.\n",
      "Try using .loc[row_indexer,col_indexer] = value instead\n",
      "\n",
      "See the the caveats in the documentation: http://pandas.pydata.org/pandas-docs/stable/indexing.html#indexing-view-versus-copy\n"
     ]
    },
    {
     "name": "stdout",
     "output_type": "stream",
     "text": [
      "3347.0\n"
     ]
    },
    {
     "name": "stderr",
     "output_type": "stream",
     "text": [
      "/Users/acchi369/anaconda/lib/python2.7/site-packages/IPython/kernel/__main__.py:7: SettingWithCopyWarning: \n",
      "A value is trying to be set on a copy of a slice from a DataFrame.\n",
      "Try using .loc[row_indexer,col_indexer] = value instead\n",
      "\n",
      "See the the caveats in the documentation: http://pandas.pydata.org/pandas-docs/stable/indexing.html#indexing-view-versus-copy\n"
     ]
    }
   ],
   "source": [
    "df0 = df.iloc[assignments[0]]\n",
    "df1 = df.iloc[assignments[1]]\n",
    "df2 = df.iloc[assignments[2]]\n",
    "\n",
    "df0[\"cluster\"] = 0\n",
    "df1[\"cluster\"] = 1\n",
    "df2[\"cluster\"] = 2\n",
    "\n",
    "df = df0.append(df1.append(df2))"
   ]
  },
  {
   "cell_type": "code",
   "execution_count": 42,
   "metadata": {
    "collapsed": false
   },
   "outputs": [],
   "source": [
    "df.to_csv(datetime.now().strftime(\"cluster_results_%H_%M_%d_%m_%Y.csv\"))"
   ]
  },
  {
   "cell_type": "markdown",
   "metadata": {},
   "source": [
    "## Clustering with only Baseline, 3 Mo, 6 Mo"
   ]
  },
  {
   "cell_type": "code",
   "execution_count": 103,
   "metadata": {
    "collapsed": true
   },
   "outputs": [],
   "source": [
    "df_6mo = pd.read_csv(\"TS_NCFAS_6_Months_Only.csv\", index_col=\"Subject Unique Identifier\")"
   ]
  },
  {
   "cell_type": "code",
   "execution_count": 104,
   "metadata": {
    "collapsed": false
   },
   "outputs": [
    {
     "name": "stdout",
     "output_type": "stream",
     "text": [
      "32\n"
     ]
    }
   ],
   "source": [
    "print len(df_6mo)\n",
    "data_6mo = df_6mo.fillna(0).as_matrix()"
   ]
  },
  {
   "cell_type": "code",
   "execution_count": 105,
   "metadata": {
    "collapsed": false
   },
   "outputs": [
    {
     "name": "stdout",
     "output_type": "stream",
     "text": [
      "1\n",
      "key: 0   \n",
      "944\n",
      "key: 1   \n",
      "599\n",
      "key: 2   \n",
      "542\n",
      "2\n",
      "key: 0   \n",
      "1040\n",
      "key: 1   \n",
      "581\n",
      "key: 2   \n",
      "464\n",
      "3\n",
      "key: 0   \n",
      "1040\n",
      "key: 1   \n",
      "691\n",
      "key: 2   \n",
      "354\n",
      "4\n",
      "key: 0   \n",
      "1040\n",
      "key: 1   \n",
      "691\n",
      "key: 2   \n",
      "354\n",
      "5\n",
      "key: 0   \n",
      "1040\n",
      "key: 1   \n",
      "691\n",
      "key: 2   \n",
      "354\n",
      "6\n",
      "key: 0   \n",
      "1040\n",
      "key: 1   \n",
      "691\n",
      "key: 2   \n",
      "354\n",
      "7\n",
      "key: 0   \n",
      "1040\n",
      "key: 1   \n",
      "691\n",
      "key: 2   \n",
      "354\n",
      "8\n",
      "key: 0   \n",
      "1040\n",
      "key: 1   \n",
      "691\n",
      "key: 2   \n",
      "354\n",
      "9\n",
      "key: 0   \n",
      "1040\n",
      "key: 1   \n",
      "691\n",
      "key: 2   \n",
      "354\n",
      "10\n",
      "key: 0   \n",
      "1040\n",
      "key: 1   \n",
      "691\n",
      "key: 2   \n",
      "354\n"
     ]
    },
    {
     "data": {
      "image/png": "[encoded data removed]",
      "text/plain": [
       "<matplotlib.figure.Figure at 0x106a31ad0>"
      ]
     },
     "metadata": {},
     "output_type": "display_data"
    }
   ],
   "source": [
    "assignments_6mo, centroids_6mo, min_dist_6mo=k_means_clust(data_6mo,3,10,3)\n",
    "for i in centroids_6mo:\n",
    "    plt.plot(i)\n",
    "\n",
    "plt.show()"
   ]
  },
  {
   "cell_type": "code",
   "execution_count": 106,
   "metadata": {
    "collapsed": false
   },
   "outputs": [
    {
     "name": "stderr",
     "output_type": "stream",
     "text": [
      "/Users/acchi369/anaconda/lib/python2.7/site-packages/IPython/kernel/__main__.py:5: SettingWithCopyWarning: \n",
      "A value is trying to be set on a copy of a slice from a DataFrame.\n",
      "Try using .loc[row_indexer,col_indexer] = value instead\n",
      "\n",
      "See the the caveats in the documentation: http://pandas.pydata.org/pandas-docs/stable/indexing.html#indexing-view-versus-copy\n",
      "/Users/acchi369/anaconda/lib/python2.7/site-packages/IPython/kernel/__main__.py:6: SettingWithCopyWarning: \n",
      "A value is trying to be set on a copy of a slice from a DataFrame.\n",
      "Try using .loc[row_indexer,col_indexer] = value instead\n",
      "\n",
      "See the the caveats in the documentation: http://pandas.pydata.org/pandas-docs/stable/indexing.html#indexing-view-versus-copy\n"
     ]
    },
    {
     "name": "stdout",
     "output_type": "stream",
     "text": [
      "2085\n"
     ]
    },
    {
     "name": "stderr",
     "output_type": "stream",
     "text": [
      "/Users/acchi369/anaconda/lib/python2.7/site-packages/IPython/kernel/__main__.py:7: SettingWithCopyWarning: \n",
      "A value is trying to be set on a copy of a slice from a DataFrame.\n",
      "Try using .loc[row_indexer,col_indexer] = value instead\n",
      "\n",
      "See the the caveats in the documentation: http://pandas.pydata.org/pandas-docs/stable/indexing.html#indexing-view-versus-copy\n"
     ]
    }
   ],
   "source": [
    "df0_6mo = df_6mo.iloc[assignments_6mo[0]]\n",
    "df1_6mo = df_6mo.iloc[assignments_6mo[1]]\n",
    "df2_6mo = df_6mo.iloc[assignments_6mo[2]]\n",
    "\n",
    "df0_6mo[\"cluster\"] = 0\n",
    "df1_6mo[\"cluster\"] = 1\n",
    "df2_6mo[\"cluster\"] = 2\n",
    "\n",
    "df_6mo = df0_6mo.append(df1_6mo.append(df2_6mo))"
   ]
  },
  {
   "cell_type": "code",
   "execution_count": 58,
   "metadata": {
    "collapsed": true
   },
   "outputs": [],
   "source": [
    "df_6mo.to_csv(datetime.now().strftime(\"cluster_results_6mo_%H_%M_%d_%m_%Y.csv\"))"
   ]
  },
  {
   "cell_type": "markdown",
   "metadata": {},
   "source": [
    "## Clustering based on Difference in Score between Sessions"
   ]
  },
  {
   "cell_type": "code",
   "execution_count": 107,
   "metadata": {
    "collapsed": true
   },
   "outputs": [],
   "source": [
    "df_diff = pd.read_csv(\"TS_NCFAS_DIFF.csv\", index_col=\"Subject Unique Identifier\")"
   ]
  },
  {
   "cell_type": "code",
   "execution_count": 108,
   "metadata": {
    "collapsed": false
   },
   "outputs": [
    {
     "name": "stdout",
     "output_type": "stream",
     "text": [
      "64\n"
     ]
    }
   ],
   "source": [
    "print len(df_diff)\n",
    "data_diff = df_diff.fillna(0).as_matrix()"
   ]
  },
  {
   "cell_type": "code",
   "execution_count": 109,
   "metadata": {
    "collapsed": false
   },
   "outputs": [
    {
     "name": "stdout",
     "output_type": "stream",
     "text": [
      "1\n",
      "key: 0   \n",
      "-35\n",
      "key: 1   \n",
      "150\n",
      "key: 2   \n",
      "-149\n",
      "2\n",
      "key: 0   \n",
      "-35\n",
      "key: 1   \n",
      "117\n",
      "key: 2   \n",
      "-95\n",
      "3\n",
      "key: 0   \n",
      "-35\n",
      "key: 1   \n",
      "138\n",
      "key: 2   \n",
      "-105\n",
      "4\n",
      "key: 0   \n",
      "-35\n",
      "key: 1   \n",
      "117\n",
      "key: 2   \n",
      "-95\n",
      "5\n",
      "key: 0   \n",
      "-35\n",
      "key: 1   \n",
      "138\n",
      "key: 2   \n",
      "-105\n",
      "6\n",
      "key: 0   \n",
      "-35\n",
      "key: 1   \n",
      "117\n",
      "key: 2   \n",
      "-95\n",
      "7\n",
      "key: 0   \n",
      "-35\n",
      "key: 1   \n",
      "138\n",
      "key: 2   \n",
      "-105\n",
      "8\n",
      "key: 0   \n",
      "-35\n",
      "key: 1   \n",
      "117\n",
      "key: 2   \n",
      "-95\n",
      "9\n",
      "key: 0   \n",
      "-35\n",
      "key: 1   \n",
      "138\n",
      "key: 2   \n",
      "-105\n",
      "10\n",
      "key: 0   \n",
      "-35\n",
      "key: 1   \n",
      "117\n",
      "key: 2   \n",
      "-95\n"
     ]
    },
    {
     "data": {
      "image/png": "[encoded data removed]",
      "text/plain": [
       "<matplotlib.figure.Figure at 0x106c1d610>"
      ]
     },
     "metadata": {},
     "output_type": "display_data"
    }
   ],
   "source": [
    "assignments_diff, centroids_diff, min_dist_diff=k_means_clust(data_diff,3,10,3)\n",
    "for i in centroids_diff:\n",
    "    plt.plot(i)\n",
    "\n",
    "plt.show()"
   ]
  },
  {
   "cell_type": "code",
   "execution_count": 87,
   "metadata": {
    "collapsed": false
   },
   "outputs": [
    {
     "name": "stderr",
     "output_type": "stream",
     "text": [
      "/Users/acchi369/anaconda/lib/python2.7/site-packages/IPython/kernel/__main__.py:5: SettingWithCopyWarning: \n",
      "A value is trying to be set on a copy of a slice from a DataFrame.\n",
      "Try using .loc[row_indexer,col_indexer] = value instead\n",
      "\n",
      "See the the caveats in the documentation: http://pandas.pydata.org/pandas-docs/stable/indexing.html#indexing-view-versus-copy\n",
      "/Users/acchi369/anaconda/lib/python2.7/site-packages/IPython/kernel/__main__.py:6: SettingWithCopyWarning: \n",
      "A value is trying to be set on a copy of a slice from a DataFrame.\n",
      "Try using .loc[row_indexer,col_indexer] = value instead\n",
      "\n",
      "See the the caveats in the documentation: http://pandas.pydata.org/pandas-docs/stable/indexing.html#indexing-view-versus-copy\n"
     ]
    },
    {
     "name": "stdout",
     "output_type": "stream",
     "text": [
      "-35\n"
     ]
    },
    {
     "name": "stderr",
     "output_type": "stream",
     "text": [
      "/Users/acchi369/anaconda/lib/python2.7/site-packages/IPython/kernel/__main__.py:7: SettingWithCopyWarning: \n",
      "A value is trying to be set on a copy of a slice from a DataFrame.\n",
      "Try using .loc[row_indexer,col_indexer] = value instead\n",
      "\n",
      "See the the caveats in the documentation: http://pandas.pydata.org/pandas-docs/stable/indexing.html#indexing-view-versus-copy\n"
     ]
    }
   ],
   "source": [
    "df0_diff = df_diff.iloc[assignments_diff[0]]\n",
    "df1_diff = df_diff.iloc[assignments_diff[1]]\n",
    "df2_diff = df_diff.iloc[assignments_diff[2]]\n",
    "\n",
    "df0_diff[\"cluster\"] = 0\n",
    "df1_diff[\"cluster\"] = 1\n",
    "df2_diff[\"cluster\"] = 2\n",
    "\n",
    "df_diff = df0_diff.append(df1_diff.append(df2_diff))"
   ]
  },
  {
   "cell_type": "code",
   "execution_count": 65,
   "metadata": {
    "collapsed": true
   },
   "outputs": [],
   "source": [
    "df_diff.to_csv(datetime.now().strftime(\"cluster_results_diff_%H_%M_%d_%m_%Y.csv\"))"
   ]
  },
  {
   "cell_type": "markdown",
   "metadata": {},
   "source": [
    "## Clustering based on Difference in Score between Sessions (baseline, 3mo, 6mo)"
   ]
  },
  {
   "cell_type": "code",
   "execution_count": 90,
   "metadata": {
    "collapsed": true
   },
   "outputs": [],
   "source": [
    "df_diff_6mo = pd.read_csv(\"TS_NCFAS_DIFF_6_Months_Only.csv\", index_col=\"Subject Unique Identifier\")"
   ]
  },
  {
   "cell_type": "code",
   "execution_count": 91,
   "metadata": {
    "collapsed": false
   },
   "outputs": [
    {
     "name": "stdout",
     "output_type": "stream",
     "text": [
      "32\n"
     ]
    }
   ],
   "source": [
    "print len(df_diff_6mo)\n",
    "data_diff_6mo = df_diff_6mo.fillna(0).as_matrix()"
   ]
  },
  {
   "cell_type": "code",
   "execution_count": 92,
   "metadata": {
    "collapsed": false
   },
   "outputs": [
    {
     "name": "stdout",
     "output_type": "stream",
     "text": [
      "1\n",
      "key: 0   \n",
      "key: 1   \n",
      "key: 2   \n",
      "2\n",
      "key: 0   \n",
      "key: 1   \n",
      "key: 2   \n",
      "3\n",
      "key: 0   \n",
      "key: 1   \n",
      "key: 2   \n",
      "4\n",
      "key: 0   \n",
      "key: 1   \n",
      "key: 2   \n",
      "5\n",
      "key: 0   \n",
      "key: 1   \n",
      "key: 2   \n",
      "6\n",
      "key: 0   \n",
      "key: 1   \n",
      "key: 2   \n",
      "7\n",
      "key: 0   \n",
      "key: 1   \n",
      "key: 2   \n",
      "8\n",
      "key: 0   \n",
      "key: 1   \n",
      "key: 2   \n",
      "9\n",
      "key: 0   \n",
      "key: 1   \n",
      "key: 2   \n",
      "10\n",
      "key: 0   \n",
      "key: 1   \n",
      "key: 2   \n"
     ]
    },
    {
     "data": {
      "image/png": "[encoded data removed]",
      "text/plain": [
       "<matplotlib.figure.Figure at 0x106cb84d0>"
      ]
     },
     "metadata": {},
     "output_type": "display_data"
    }
   ],
   "source": [
    "assignments_diff_6mo, centroids_diff_6mo, min_dist_diff_6mo=k_means_clust(data_diff_6mo,3,10,3)\n",
    "for i in centroids_diff_6mo:\n",
    "    plt.plot(i)\n",
    "\n",
    "plt.show()"
   ]
  },
  {
   "cell_type": "code",
   "execution_count": 93,
   "metadata": {
    "collapsed": false
   },
   "outputs": [
    {
     "name": "stderr",
     "output_type": "stream",
     "text": [
      "/Users/acchi369/anaconda/lib/python2.7/site-packages/IPython/kernel/__main__.py:5: SettingWithCopyWarning: \n",
      "A value is trying to be set on a copy of a slice from a DataFrame.\n",
      "Try using .loc[row_indexer,col_indexer] = value instead\n",
      "\n",
      "See the the caveats in the documentation: http://pandas.pydata.org/pandas-docs/stable/indexing.html#indexing-view-versus-copy\n",
      "/Users/acchi369/anaconda/lib/python2.7/site-packages/IPython/kernel/__main__.py:6: SettingWithCopyWarning: \n",
      "A value is trying to be set on a copy of a slice from a DataFrame.\n",
      "Try using .loc[row_indexer,col_indexer] = value instead\n",
      "\n",
      "See the the caveats in the documentation: http://pandas.pydata.org/pandas-docs/stable/indexing.html#indexing-view-versus-copy\n"
     ]
    },
    {
     "name": "stdout",
     "output_type": "stream",
     "text": [
      "-168\n"
     ]
    },
    {
     "name": "stderr",
     "output_type": "stream",
     "text": [
      "/Users/acchi369/anaconda/lib/python2.7/site-packages/IPython/kernel/__main__.py:7: SettingWithCopyWarning: \n",
      "A value is trying to be set on a copy of a slice from a DataFrame.\n",
      "Try using .loc[row_indexer,col_indexer] = value instead\n",
      "\n",
      "See the the caveats in the documentation: http://pandas.pydata.org/pandas-docs/stable/indexing.html#indexing-view-versus-copy\n"
     ]
    }
   ],
   "source": [
    "df0_diff_6mo = df_diff_6mo.iloc[assignments_diff_6mo[0]]\n",
    "df1_diff_6mo = df_diff_6mo.iloc[assignments_diff_6mo[1]]\n",
    "df2_diff_6mo = df_diff_6mo.iloc[assignments_diff_6mo[2]]\n",
    "\n",
    "df0_diff_6mo[\"cluster\"] = 0\n",
    "df1_diff_6mo[\"cluster\"] = 1\n",
    "df2_diff_6mo[\"cluster\"] = 2\n",
    "\n",
    "df_diff_6mo = df0_diff_6mo.append(df1_diff_6mo.append(df2_diff_6mo))"
   ]
  },
  {
   "cell_type": "code",
   "execution_count": 70,
   "metadata": {
    "collapsed": true
   },
   "outputs": [],
   "source": [
    "df_diff_6mo.to_csv(datetime.now().strftime(\"cluster_results_diff_6mo%H_%M_%d_%m_%Y.csv\"))"
   ]
  },
  {
   "cell_type": "code",
   "execution_count": null,
   "metadata": {
    "collapsed": true
   },
   "outputs": [],
   "source": []
  }
 ],
 "metadata": {
  "kernelspec": {
   "display_name": "Python 2",
   "language": "python",
   "name": "python2"
  },
  "language_info": {
   "codemirror_mode": {
    "name": "ipython",
    "version": 2
   },
   "file_extension": ".py",
   "mimetype": "text/x-python",
   "name": "python",
   "nbconvert_exporter": "python",
   "pygments_lexer": "ipython2",
   "version": "2.7.9"
  }
 },
 "nbformat": 4,
 "nbformat_minor": 0
}
